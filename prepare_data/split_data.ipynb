{
 "cells": [
  {
   "cell_type": "code",
   "execution_count": 2,
   "metadata": {},
   "outputs": [],
   "source": [
    "import pandas as pd\n",
    "import numpy as np\n",
    "import os"
   ]
  },
  {
   "cell_type": "code",
   "execution_count": 3,
   "metadata": {},
   "outputs": [],
   "source": [
    "data = pd.read_csv('./data/airbnb_cleaned.csv')"
   ]
  },
  {
   "cell_type": "code",
   "execution_count": 4,
   "metadata": {},
   "outputs": [
    {
     "name": "stdout",
     "output_type": "stream",
     "text": [
      "Client 1 data saved to ../client_data/client_1_data.csv\n",
      "Client 2 data saved to ../client_data/client_2_data.csv\n"
     ]
    },
    {
     "name": "stderr",
     "output_type": "stream",
     "text": [
      "d:\\Study\\Anaconda\\Lib\\site-packages\\numpy\\core\\fromnumeric.py:59: FutureWarning: 'DataFrame.swapaxes' is deprecated and will be removed in a future version. Please use 'DataFrame.transpose' instead.\n",
      "  return bound(*args, **kwds)\n"
     ]
    }
   ],
   "source": [
    "# Shuffle the dataset randomly\n",
    "data = data.sample(frac=1, random_state=42).reset_index(drop=True)\n",
    "\n",
    "# Split the dataset into 5 clients\n",
    "num_clients = 2\n",
    "data_splits = np.array_split(data, num_clients)\n",
    "\n",
    "# Create directory to save split files\n",
    "output_directory = \"../client_data/\"\n",
    "os.makedirs(output_directory, exist_ok=True)\n",
    "\n",
    "# Save each split into separate CSV files\n",
    "for i, split_data in enumerate(data_splits):\n",
    "    split_file_path = os.path.join(output_directory, f\"client_{i+1}_data.csv\")\n",
    "    split_data.to_csv(split_file_path, index=False)\n",
    "\n",
    "    print(f\"Client {i+1} data saved to {split_file_path}\")"
   ]
  },
  {
   "cell_type": "code",
   "execution_count": null,
   "metadata": {},
   "outputs": [],
   "source": []
  }
 ],
 "metadata": {
  "kernelspec": {
   "display_name": "Python 3.11.5 ('base')",
   "language": "python",
   "name": "python3"
  },
  "language_info": {
   "codemirror_mode": {
    "name": "ipython",
    "version": 3
   },
   "file_extension": ".py",
   "mimetype": "text/x-python",
   "name": "python",
   "nbconvert_exporter": "python",
   "pygments_lexer": "ipython3",
   "version": "3.11.5"
  },
  "orig_nbformat": 4,
  "vscode": {
   "interpreter": {
    "hash": "23d52cadcecb545e0b3e67ad138b8556d82bc44889c667840086057480f370bb"
   }
  }
 },
 "nbformat": 4,
 "nbformat_minor": 2
}
