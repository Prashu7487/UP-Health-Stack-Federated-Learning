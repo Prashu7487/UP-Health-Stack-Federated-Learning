{
 "cells": [
  {
   "cell_type": "code",
   "execution_count": 35,
   "metadata": {},
   "outputs": [],
   "source": [
    "import pandas as pd\n",
    "import numpy as np\n",
    "import os\n",
    "from sklearn.preprocessing import StandardScaler"
   ]
  },
  {
   "cell_type": "code",
   "execution_count": 47,
   "metadata": {},
   "outputs": [],
   "source": [
    "data = pd.read_csv('./data/airbnb_cleaned.csv')\n",
    "data.drop(columns=['host_id','id','Unnamed: 0'],inplace=True)\n",
    "X = data.drop(columns=['price'])\n",
    "y = data['price']"
   ]
  },
  {
   "cell_type": "code",
   "execution_count": 48,
   "metadata": {},
   "outputs": [
    {
     "name": "stdout",
     "output_type": "stream",
     "text": [
      "   host_is_superhost  host_listings_count  neighbourhood  zipcode  latitude  \\\n",
      "0                  0                 45.0             54     8026  41.40889   \n",
      "1                  0                 45.0             32     8025  41.40420   \n",
      "2                  0                  2.0             54     8018  41.40560   \n",
      "3                  1                  5.0             54     8930  41.41203   \n",
      "4                  1                  1.0             65     8012  41.40145   \n",
      "\n",
      "   longitude  property_type  room_type  accommodates  bathrooms  ...  beds  \\\n",
      "0    2.18555              1          0             6        1.0  ...   4.0   \n",
      "1    2.17306              1          0             8        2.0  ...   6.0   \n",
      "2    2.19821              1          1             2        1.0  ...   1.0   \n",
      "3    2.22114              1          0             6        2.0  ...   8.0   \n",
      "4    2.15645              1          1             2        1.0  ...   1.0   \n",
      "\n",
      "   minimum_nights  has_availability  availability_30  availability_60  \\\n",
      "0               3                 0                0                0   \n",
      "1               1                 0                3               20   \n",
      "2               2                 0                4                8   \n",
      "3               3                 0               11               33   \n",
      "4               1                 0                8               19   \n",
      "\n",
      "   availability_90  availability_365  number_of_reviews_ltm  \\\n",
      "0                0               182                      0   \n",
      "1               50               129                     10   \n",
      "2               15                15                     36   \n",
      "3               63               318                     16   \n",
      "4               41               115                     49   \n",
      "\n",
      "   review_scores_rating  price_normal  \n",
      "0                     6      4.867534  \n",
      "1                     6      4.094345  \n",
      "2                     7      3.496508  \n",
      "3                     7      5.347108  \n",
      "4                     7      3.806662  \n",
      "\n",
      "[5 rows x 21 columns]\n"
     ]
    }
   ],
   "source": [
    "print(X.head())"
   ]
  },
  {
   "cell_type": "code",
   "execution_count": 49,
   "metadata": {},
   "outputs": [],
   "source": [
    "object = StandardScaler()\n",
    "data_scaled = object.fit_transform(X)\n",
    "# Convert the scaled array back to a DataFrame\n",
    "X_scaled_df = pd.DataFrame(data_scaled, columns=X.columns)"
   ]
  },
  {
   "cell_type": "code",
   "execution_count": 50,
   "metadata": {},
   "outputs": [
    {
     "name": "stdout",
     "output_type": "stream",
     "text": [
      "   host_is_superhost  host_listings_count  neighbourhood    zipcode  latitude  \\\n",
      "0          -0.481096             0.471105       1.288959   0.115297  1.126927   \n",
      "1          -0.481096             0.471105       0.278206   0.100143  0.813443   \n",
      "2          -0.481096            -0.337218       1.288959  -0.005937  0.907020   \n",
      "3           2.078589            -0.280823       1.288959  13.814727  1.336808   \n",
      "4           2.078589            -0.356016       1.794336  -0.096862  0.629630   \n",
      "\n",
      "   longitude  property_type  room_type  accommodates  bathrooms  ...  \\\n",
      "0   1.003127       -0.36815  -1.022099      1.177069  -0.510605  ...   \n",
      "1   0.309407       -0.36815  -1.022099      2.081581   1.045062  ...   \n",
      "2   1.706289       -0.36815   0.899552     -0.631956  -0.510605  ...   \n",
      "3   2.979869       -0.36815  -1.022099      1.177069   1.045062  ...   \n",
      "4  -0.613147       -0.36815   0.899552     -0.631956  -0.510605  ...   \n",
      "\n",
      "       beds  minimum_nights  has_availability  availability_30  \\\n",
      "0  0.912995       -0.305434               0.0        -0.909491   \n",
      "1  1.988945       -0.416464               0.0        -0.580190   \n",
      "2 -0.700929       -0.360949               0.0        -0.470422   \n",
      "3  3.064894       -0.305434               0.0         0.297947   \n",
      "4 -0.700929       -0.416464               0.0        -0.031354   \n",
      "\n",
      "   availability_60  availability_90  availability_365  number_of_reviews_ltm  \\\n",
      "0        -1.142745        -1.284091          0.082672              -0.697715   \n",
      "1        -0.097281         0.434843         -0.336669              -0.142145   \n",
      "2        -0.724559        -0.768411         -1.238649               1.302338   \n",
      "3         0.582271         0.881766          1.158719               0.191198   \n",
      "4        -0.149554         0.125435         -0.447439               2.024580   \n",
      "\n",
      "   review_scores_rating  price_normal  \n",
      "0             -0.980839      0.696461  \n",
      "1             -0.980839     -0.203664  \n",
      "2              0.082155     -0.899647  \n",
      "3              0.082155      1.254765  \n",
      "4              0.082155     -0.538574  \n",
      "\n",
      "[5 rows x 21 columns]\n"
     ]
    }
   ],
   "source": [
    "print(X_scaled_df.head())"
   ]
  },
  {
   "cell_type": "code",
   "execution_count": 51,
   "metadata": {},
   "outputs": [],
   "source": [
    "# Assuming df1 and df2 are your two DataFrames\n",
    "merged_df = pd.merge(X_scaled_df, y, left_index=True, right_index=True)"
   ]
  },
  {
   "cell_type": "code",
   "execution_count": null,
   "metadata": {},
   "outputs": [],
   "source": [
    "print(merged_df)"
   ]
  },
  {
   "cell_type": "code",
   "execution_count": 39,
   "metadata": {},
   "outputs": [
    {
     "name": "stderr",
     "output_type": "stream",
     "text": [
      "d:\\Study\\Anaconda\\Lib\\site-packages\\numpy\\core\\fromnumeric.py:59: FutureWarning: 'DataFrame.swapaxes' is deprecated and will be removed in a future version. Please use 'DataFrame.transpose' instead.\n",
      "  return bound(*args, **kwds)\n"
     ]
    },
    {
     "name": "stdout",
     "output_type": "stream",
     "text": [
      "Client 1 data saved to ../client_data/client_1_data.csv\n",
      "Client 2 data saved to ../client_data/client_2_data.csv\n"
     ]
    }
   ],
   "source": [
    "# Shuffle the dataset randomly\n",
    "X_scaled_df = X_scaled_df.sample(frac=1, random_state=42).reset_index(drop=True)\n",
    "\n",
    "# Split the dataset into 5 clients\n",
    "num_clients = 2\n",
    "data_splits = np.array_split(X_scaled_df, num_clients)\n",
    "\n",
    "# Create directory to save split files\n",
    "output_directory = \"../client_data/\"\n",
    "os.makedirs(output_directory, exist_ok=True)\n",
    "\n",
    "# Save each split into separate CSV files\n",
    "for i, split_data in enumerate(data_splits):\n",
    "    split_file_path = os.path.join(output_directory, f\"client_{i+1}_data.csv\")\n",
    "    split_data.to_csv(split_file_path, index=False)\n",
    "\n",
    "    print(f\"Client {i+1} data saved to {split_file_path}\")"
   ]
  },
  {
   "cell_type": "code",
   "execution_count": 40,
   "metadata": {},
   "outputs": [
    {
     "name": "stdout",
     "output_type": "stream",
     "text": [
      "   host_is_superhost  host_listings_count  neighbourhood    zipcode  latitude  \\\n",
      "0          -0.481096            -0.318419       1.105186  -0.051399 -0.824832   \n",
      "1          -0.481096             3.835981       1.288959  13.814727  1.275314   \n",
      "2          -0.481096            -0.337218      -0.916321   0.100143  1.023992   \n",
      "3          -0.481096            -0.337218      -0.916321  -0.081708  0.745265   \n",
      "4          -0.481096            -0.356016       1.426789  -0.066554 -1.354213   \n",
      "\n",
      "   longitude  property_type  room_type  accommodates  bathrooms  ...  \\\n",
      "0  -0.632587       -0.36815   0.899552     -0.631956  -0.510605  ...   \n",
      "1   3.150938        0.11074  -1.022099      0.272556  -0.510605  ...   \n",
      "2   0.403273       -0.36815   0.899552     -0.631956  -0.510605  ...   \n",
      "3   0.750411       -0.36815   0.899552     -0.631956  -0.510605  ...   \n",
      "4  -1.451832       -0.36815   0.899552     -0.631956  -0.510605  ...   \n",
      "\n",
      "       beds  minimum_nights  has_availability  availability_30  \\\n",
      "0 -0.700929       -0.360949               0.0         0.407714   \n",
      "1 -0.162955       -0.360949               0.0         1.615151   \n",
      "2 -0.700929       -0.416464               0.0        -0.909491   \n",
      "3 -0.162955       -0.249919               0.0        -0.909491   \n",
      "4 -0.162955       -0.360949               0.0        -0.909491   \n",
      "\n",
      "   availability_60  availability_90  availability_365  number_of_reviews_ltm  \\\n",
      "0         0.791364         0.778630         -0.882605               0.413426   \n",
      "1         0.425451         0.778630          1.293225              -0.697715   \n",
      "2        -1.142745        -1.284091         -1.357331              -0.697715   \n",
      "3        -1.090472        -1.146577         -0.803484               2.469036   \n",
      "4        -1.142745        -1.284091         -1.357331              -0.697715   \n",
      "\n",
      "   review_scores_rating  price_normal  \n",
      "0              0.082155     -0.831147  \n",
      "1              1.145149      0.391024  \n",
      "2              0.082155     -0.203664  \n",
      "3              0.082155     -1.817546  \n",
      "4              0.082155     -0.675694  \n",
      "\n",
      "[5 rows x 21 columns]\n"
     ]
    }
   ],
   "source": []
  },
  {
   "cell_type": "code",
   "execution_count": null,
   "metadata": {},
   "outputs": [],
   "source": []
  },
  {
   "cell_type": "code",
   "execution_count": null,
   "metadata": {},
   "outputs": [],
   "source": []
  }
 ],
 "metadata": {
  "kernelspec": {
   "display_name": "Python 3.11.5 ('base')",
   "language": "python",
   "name": "python3"
  },
  "language_info": {
   "codemirror_mode": {
    "name": "ipython",
    "version": 3
   },
   "file_extension": ".py",
   "mimetype": "text/x-python",
   "name": "python",
   "nbconvert_exporter": "python",
   "pygments_lexer": "ipython3",
   "version": "3.11.5"
  },
  "orig_nbformat": 4,
  "vscode": {
   "interpreter": {
    "hash": "23d52cadcecb545e0b3e67ad138b8556d82bc44889c667840086057480f370bb"
   }
  }
 },
 "nbformat": 4,
 "nbformat_minor": 2
}
